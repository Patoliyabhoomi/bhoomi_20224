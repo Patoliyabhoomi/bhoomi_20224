{
 "cells": [
  {
   "cell_type": "code",
   "execution_count": 2,
   "id": "e861a231-6a69-490a-9053-f85a5acffb8e",
   "metadata": {},
   "outputs": [
    {
     "name": "stdout",
     "output_type": "stream",
     "text": [
      "Defaulting to user installation because normal site-packages is not writeable\n",
      "Collecting pyswarm\n",
      "  Downloading pyswarm-0.6.tar.gz (4.3 kB)\n",
      "  Preparing metadata (setup.py): started\n",
      "  Preparing metadata (setup.py): finished with status 'done'\n",
      "Requirement already satisfied: numpy in c:\\programdata\\anaconda3\\lib\\site-packages (from pyswarm) (1.26.4)\n",
      "Building wheels for collected packages: pyswarm\n",
      "  Building wheel for pyswarm (setup.py): started\n",
      "  Building wheel for pyswarm (setup.py): finished with status 'done'\n",
      "  Created wheel for pyswarm: filename=pyswarm-0.6-py3-none-any.whl size=4486 sha256=1eff7c1527bf767176e691a536ff5f505ed692aa8cd716319969004a93afa986\n",
      "  Stored in directory: c:\\users\\12257883\\appdata\\local\\pip\\cache\\wheels\\93\\15\\89\\3970ef96abd6123028010a90f007c4e6a2bed700db0aa2d36a\n",
      "Successfully built pyswarm\n",
      "Installing collected packages: pyswarm\n",
      "Successfully installed pyswarm-0.6\n"
     ]
    }
   ],
   "source": [
    "!pip install pyswarm\n"
   ]
  },
  {
   "cell_type": "code",
   "execution_count": 3,
   "id": "80c6266a-f337-4385-aac7-c3ee8e415a76",
   "metadata": {},
   "outputs": [],
   "source": [
    "# Import Required Libraries\n",
    "\n",
    "import numpy as np\n",
    "import tensorflow as tf\n",
    "from tensorflow.keras.models import Sequential\n",
    "from tensorflow.keras.layers import Dense, Dropout, Flatten\n",
    "from tensorflow.keras.optimizers import Adam\n",
    "from tensorflow.keras.datasets import mnist\n",
    "from tensorflow.keras.utils import to_categorical\n",
    "from sklearn.model_selection import train_test_split\n",
    "from pyswarm import pso  # Particle Swarm Optimization\n"
   ]
  },
  {
   "cell_type": "code",
   "execution_count": 4,
   "id": "4bd7bb0d-fca7-49d3-8f72-1671506e2c9b",
   "metadata": {},
   "outputs": [],
   "source": [
    "# Load and Preprocess MNIST Dataset\n",
    "\n",
    "# Load dataset\n",
    "(x_train, y_train), (x_test, y_test) = mnist.load_data()"
   ]
  },
  {
   "cell_type": "code",
   "execution_count": 5,
   "id": "9320c319-2866-406b-b964-0d960a967780",
   "metadata": {},
   "outputs": [],
   "source": [
    "# Normalize and flatten images\n",
    "x_train = x_train.reshape(-1, 28*28) / 255.0\n",
    "x_test = x_test.reshape(-1, 28*28) / 255.0\n",
    "\n",
    "# Convert labels to one-hot encoding\n",
    "y_train = to_categorical(y_train, 10)\n",
    "y_test = to_categorical(y_test, 10)\n",
    "\n",
    "# Optional: Use a subset to speed up training\n",
    "x_train, _, y_train, _ = train_test_split(x_train, y_train, train_size=0.2, random_state=42)"
   ]
  },
  {
   "cell_type": "code",
   "execution_count": 6,
   "id": "8910a132-d7e2-436b-8fec-413470f61138",
   "metadata": {},
   "outputs": [],
   "source": [
    "# Define Model Builder with Custom Hyperparameters\n",
    "\n",
    "def build_model(hparams):\n",
    "    learning_rate = hparams[0]\n",
    "    neurons = int(hparams[1])\n",
    "    dropout_rate = hparams[2]\n",
    "    \n",
    "    model = Sequential([\n",
    "        Dense(neurons, activation='relu', input_shape=(784,)),\n",
    "        Dropout(dropout_rate),\n",
    "        Dense(10, activation='softmax')\n",
    "    ])\n",
    "    \n",
    "    model.compile(optimizer=Adam(learning_rate=learning_rate),\n",
    "                  loss='categorical_crossentropy',\n",
    "                  metrics=['accuracy'])\n",
    "    return model\n"
   ]
  },
  {
   "cell_type": "code",
   "execution_count": 7,
   "id": "cd732ae4-8567-413b-b2be-ce03738d0b6d",
   "metadata": {},
   "outputs": [],
   "source": [
    "# Objective Function for PSO\n",
    "\n",
    "def fitness(hparams):\n",
    "    learning_rate, neurons, dropout = hparams\n",
    "    if not (0.0001 <= learning_rate <= 0.01 and 32 <= neurons <= 128 and 0.1 <= dropout <= 0.5):\n",
    "        return 1.0  # Penalize invalid ranges\n",
    "    \n",
    "    model = build_model(hparams)\n",
    "    history = model.fit(x_train, y_train, epochs=3, batch_size=64, verbose=0)\n",
    "    loss, acc = model.evaluate(x_test, y_test, verbose=0)\n",
    "    \n",
    "    return 1 - acc  # Minimize (1 - accuracy)\n"
   ]
  },
  {
   "cell_type": "code",
   "execution_count": 8,
   "id": "82a36ceb-e175-4c82-a934-3b7446e4419d",
   "metadata": {},
   "outputs": [
    {
     "name": "stderr",
     "output_type": "stream",
     "text": [
      "C:\\Users\\12257883\\AppData\\Roaming\\Python\\Python312\\site-packages\\keras\\src\\layers\\core\\dense.py:87: UserWarning: Do not pass an `input_shape`/`input_dim` argument to a layer. When using Sequential models, prefer using an `Input(shape)` object as the first layer in the model instead.\n",
      "  super().__init__(activity_regularizer=activity_regularizer, **kwargs)\n"
     ]
    },
    {
     "name": "stdout",
     "output_type": "stream",
     "text": [
      "Stopping search: maximum iterations reached --> 5\n",
      "Best Hyperparameters (PSO): [7.72808886e-03 1.21795997e+02 3.39108141e-01]\n"
     ]
    }
   ],
   "source": [
    "# Run PSO to Find Optimal Hyperparameters\n",
    "\n",
    "# Define bounds: [learning_rate, neurons, dropout]\n",
    "lb = [0.0001, 32, 0.1]\n",
    "ub = [0.01, 128, 0.5]\n",
    "\n",
    "best_params, best_score = pso(fitness, lb, ub, swarmsize=10, maxiter=5)\n",
    "print(\"Best Hyperparameters (PSO):\", best_params)\n"
   ]
  },
  {
   "cell_type": "code",
   "execution_count": 9,
   "id": "4f6c5588-ccc7-4529-8fc0-0f68fe0a12e4",
   "metadata": {},
   "outputs": [
    {
     "name": "stdout",
     "output_type": "stream",
     "text": [
      "Best Hyperparameters (Grid): (0.005, 128, 0.3)\n"
     ]
    }
   ],
   "source": [
    "# Traditional Method – Grid Search\n",
    "\n",
    "from itertools import product\n",
    "\n",
    "# Define grid values\n",
    "lr_values = [0.001, 0.005]\n",
    "neuron_values = [64, 128]\n",
    "dropout_values = [0.2, 0.3]\n",
    "\n",
    "best_acc = 0\n",
    "best_combo = None\n",
    "\n",
    "for lr, n, d in product(lr_values, neuron_values, dropout_values):\n",
    "    model = build_model([lr, n, d])\n",
    "    model.fit(x_train, y_train, epochs=3, batch_size=64, verbose=0)\n",
    "    _, acc = model.evaluate(x_test, y_test, verbose=0)\n",
    "    \n",
    "    if acc > best_acc:\n",
    "        best_acc = acc\n",
    "        best_combo = (lr, n, d)\n",
    "\n",
    "print(\"Best Hyperparameters (Grid):\", best_combo)\n"
   ]
  },
  {
   "cell_type": "code",
   "execution_count": 10,
   "id": "2a27a74d-f765-42ad-8207-c421931ecfc4",
   "metadata": {},
   "outputs": [
    {
     "name": "stdout",
     "output_type": "stream",
     "text": [
      "PSO Best Accuracy: 95.32%\n",
      "Grid Search Best Accuracy: 95.38%\n"
     ]
    }
   ],
   "source": [
    "# Final Comparison\n",
    "\n",
    "print(\"PSO Best Accuracy: {:.2f}%\".format((1 - best_score) * 100))\n",
    "print(\"Grid Search Best Accuracy: {:.2f}%\".format(best_acc * 100))\n"
   ]
  },
  {
   "cell_type": "code",
   "execution_count": null,
   "id": "3f2b21d0-36e0-4fc2-9689-c557fb9a57d9",
   "metadata": {},
   "outputs": [],
   "source": []
  }
 ],
 "metadata": {
  "kernelspec": {
   "display_name": "Python 3 (ipykernel)",
   "language": "python",
   "name": "python3"
  },
  "language_info": {
   "codemirror_mode": {
    "name": "ipython",
    "version": 3
   },
   "file_extension": ".py",
   "mimetype": "text/x-python",
   "name": "python",
   "nbconvert_exporter": "python",
   "pygments_lexer": "ipython3",
   "version": "3.12.7"
  }
 },
 "nbformat": 4,
 "nbformat_minor": 5
}
